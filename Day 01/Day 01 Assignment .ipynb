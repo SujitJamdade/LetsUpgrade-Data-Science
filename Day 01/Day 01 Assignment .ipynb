{
 "cells": [
  {
   "cell_type": "markdown",
   "metadata": {},
   "source": [
    "# Name : Sujit Bhausaheb Jamdade\n",
    "# https://www.linkedin.com/in/sujit-jamdade-615203178/"
   ]
  },
  {
   "cell_type": "markdown",
   "metadata": {},
   "source": [
    "# Questions 1: \n",
    "Given the following jumbled word, OBANWRI guess the correct English word. \n",
    "\n",
    "A. RANIBOW \n",
    "\n",
    "B. RAINBOW \n",
    "\n",
    "C. BOWRANI \n",
    "\n",
    "D. ROBWANI "
   ]
  },
  {
   "cell_type": "code",
   "execution_count": 11,
   "metadata": {},
   "outputs": [
    {
     "name": "stdout",
     "output_type": "stream",
     "text": [
      "RAINBOW\n"
     ]
    }
   ],
   "source": [
    "# We know correct spelling is RAINBOW , let's check with the program\n",
    "\n",
    "correct_spell = \"RAINBOW\"\n",
    "lst = [\"RANIBOW\",\"RAINBOW\",\"BOWRANI\",\"ROBWANI\"]\n",
    "for i in lst:\n",
    "    \n",
    "    if(i == correct_spell):\n",
    "        print(\"RAINBOW\")\n",
    "        "
   ]
  },
  {
   "cell_type": "markdown",
   "metadata": {},
   "source": [
    "# Questions 2: \n",
    "Write a program which prints “LETS UPGRADE”. (Please note that you have to print in ALL CAPS as given) "
   ]
  },
  {
   "cell_type": "code",
   "execution_count": 14,
   "metadata": {},
   "outputs": [
    {
     "name": "stdout",
     "output_type": "stream",
     "text": [
      "LETS UPGRADE\n"
     ]
    }
   ],
   "source": [
    "print(\"LETS UPGRADE\")"
   ]
  },
  {
   "cell_type": "markdown",
   "metadata": {},
   "source": [
    "# Questions 3: \n",
    "Write a program that takes cost price and selling price as input and displays whether the transaction is a Profit or a Loss or Neither. \n",
    "INPUT FORMAT \n",
    "The first line contains the cost price. \n",
    "The second line contains the selling price. \n",
    "OUTPUT FORMAT \n",
    "Print \"Profit\" if the transaction is a profit or \"Loss\" if it is a loss. If it is neither \n",
    "profit nor loss, print \"Neither\". (You must not have quotes in your output)\n",
    "\n",
    "NOTE: \n",
    "Please stick to the input and output format. Don't add anything extra like \n",
    "'Enter cost price', 'Enter selling price', etc. "
   ]
  },
  {
   "cell_type": "code",
   "execution_count": 23,
   "metadata": {},
   "outputs": [
    {
     "name": "stdout",
     "output_type": "stream",
     "text": [
      "19\n",
      "95\n",
      "Profit\n"
     ]
    }
   ],
   "source": [
    "cost_price = int(input())\n",
    "selling_price = int(input())\n",
    "\n",
    "profit = selling_price - cost_price \n",
    "loss = cost_price - selling_price\n",
    "\n",
    "if profit > loss:\n",
    "    print(\"Profit\")\n",
    "elif loss > profit:\n",
    "    print(\"Loss\")\n",
    "else:\n",
    "    print(\"Neither\")"
   ]
  },
  {
   "cell_type": "markdown",
   "metadata": {},
   "source": [
    "# Questions 4: \n",
    "Write a program that takes an amount in Indian Rupees as input. You need to find its equivalent in Euro and display it. Assume 1 Euro equals Rs. 80. \n",
    "Please note that you are expected to stick to the given input and output \n",
    "format as in sample test cases. Please don't add any extra lines such as \n",
    "'Enter a number', etc. \n",
    "Your program should take only one number as input and display the output.\n"
   ]
  },
  {
   "cell_type": "code",
   "execution_count": 31,
   "metadata": {},
   "outputs": [
    {
     "name": "stdout",
     "output_type": "stream",
     "text": [
      "18\n",
      "1440\n"
     ]
    }
   ],
   "source": [
    "amount = int(input())  # In indian repees\n",
    "euro = 80 # Assume one euro value is 80 equivalent to indian rupees\n",
    "\n",
    "print(amount * euro)"
   ]
  }
 ],
 "metadata": {
  "kernelspec": {
   "display_name": "Python 3",
   "language": "python",
   "name": "python3"
  },
  "language_info": {
   "codemirror_mode": {
    "name": "ipython",
    "version": 3
   },
   "file_extension": ".py",
   "mimetype": "text/x-python",
   "name": "python",
   "nbconvert_exporter": "python",
   "pygments_lexer": "ipython3",
   "version": "3.7.3"
  }
 },
 "nbformat": 4,
 "nbformat_minor": 2
}
